{
 "cells": [
  {
   "cell_type": "markdown",
   "metadata": {},
   "source": [
    "#### Import all neccesary libraries"
   ]
  },
  {
   "cell_type": "code",
   "execution_count": 1,
   "metadata": {},
   "outputs": [],
   "source": [
    "import pandas as pd \n",
    "from spam_words import spam_words\n",
    "import re\n",
    "import string\n",
    "import nltk\n",
    "from nltk.corpus import stopwords\n",
    "import numpy as np\n",
    "from sklearn.feature_extraction.text import TfidfVectorizer"
   ]
  },
  {
   "cell_type": "markdown",
   "metadata": {},
   "source": [
    "#### set stopwords, intialise lemmatiser and set display columns width for df"
   ]
  },
  {
   "cell_type": "code",
   "execution_count": 2,
   "metadata": {},
   "outputs": [],
   "source": [
    "stop_words = stopwords.words(\"english\")\n",
    "wn = nltk.WordNetLemmatizer() # collection of verbs, nouns, adjectives and adverbs - lemmitzer runs off this corpus\n",
    "pd.set_option(\"display.max_colwidth\",200) # set the widith of what appears"
   ]
  },
  {
   "cell_type": "markdown",
   "metadata": {},
   "source": [
    "#### Load raw data into a df and set column names"
   ]
  },
  {
   "cell_type": "code",
   "execution_count": 3,
   "metadata": {},
   "outputs": [],
   "source": [
    "file_path = r\"SMSSpamCollection.tsv\"\n",
    "df = pd.read_csv(file_path,header=None,sep=\"\\t\")\n",
    "df.columns = [\"label\",\"text\"]"
   ]
  },
  {
   "cell_type": "markdown",
   "metadata": {},
   "source": [
    "#### All functions"
   ]
  },
  {
   "cell_type": "code",
   "execution_count": 4,
   "metadata": {},
   "outputs": [],
   "source": [
    "def process_text(text:str)->list:\n",
    "    '''Performs punctuation removal, tokenization, stop word removal, and lemmatization on the input text.'''\n",
    "    text_no_punc = \"\".join([char.lower() for char in text if char not in string.punctuation]) # remove punc and lowercase the text\n",
    "    tokens = re.split(\"\\W+\", text_no_punc) # tokenize the text\n",
    "    tokens_no_stop = [word for word in tokens if word not in stop_words] # remove stop words\n",
    "    lemmatized_tokens = [wn.lemmatize(word) for word in tokens_no_stop] # leematize the tokens\n",
    "    return lemmatized_tokens\n",
    "\n",
    "def message_length(text:str)->int:\n",
    "    '''Returns the length of a string excludings whitespace as a int'''\n",
    "    return len(text.replace(\" \",\"\"))\n",
    "\n",
    "def percent_punc(text:str)->float:\n",
    "    '''Return the percentage punc in the text as a float'''\n",
    "    total_char = message_length(text)\n",
    "    total_punc = [x for x in text if x in string.punctuation]\n",
    "    return (len(total_punc)/total_char)*100\n",
    "\n",
    "def count_spam_words(text:str)->int:\n",
    "    '''Returns the count of spam words as a int'''\n",
    "    word_list = text.split(\" \")\n",
    "    return len([x for x in word_list if x in spam_words])"
   ]
  },
  {
   "cell_type": "code",
   "execution_count": 5,
   "metadata": {},
   "outputs": [
    {
     "name": "stdout",
     "output_type": "stream",
     "text": [
      "(5568, 8914)\n",
      "['' '0' '008704050406' '0089my' '0121' '01223585236' '01223585334'\n",
      " '0125698789' '02' '020603' '0207' '02070836089' '02072069400'\n",
      " '02073162414' '02085076972' '020903' '021' '050703' '0578' '06' '060505'\n",
      " '061104' '07008009200' '07046744435' '07090201529' '07090298926'\n",
      " '07099833605' '071104' '07123456789' '0721072']\n"
     ]
    }
   ],
   "source": [
    "tfid_vect = TfidfVectorizer(analyzer=process_text)\n",
    "X_tfidf = tfid_vect.fit_transform(df[\"text\"])\n",
    "print(X_tfidf.shape)\n",
    "print(tfid_vect.get_feature_names_out()[:30])"
   ]
  }
 ],
 "metadata": {
  "kernelspec": {
   "display_name": "Python 3",
   "language": "python",
   "name": "python3"
  },
  "language_info": {
   "codemirror_mode": {
    "name": "ipython",
    "version": 3
   },
   "file_extension": ".py",
   "mimetype": "text/x-python",
   "name": "python",
   "nbconvert_exporter": "python",
   "pygments_lexer": "ipython3",
   "version": "3.11.3"
  }
 },
 "nbformat": 4,
 "nbformat_minor": 2
}
